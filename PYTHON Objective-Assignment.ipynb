{
 "cells": [
  {
   "cell_type": "markdown",
   "metadata": {},
   "source": [
    "## Q1. How can we create an iterator object from a list?"
   ]
  },
  {
   "cell_type": "markdown",
   "metadata": {},
   "source": [
    "a) Bypassing the given list to the iter() function\n",
    "\n",
    "b) By using a for a loop.\n",
    "\n",
    "c) By using a while loop.\n",
    "\n",
    "d) You cannot create an iterable object"
   ]
  },
  {
   "cell_type": "code",
   "execution_count": null,
   "metadata": {},
   "outputs": [],
   "source": [
    "Ans: a) Bypassing the given list to the iter() function "
   ]
  },
  {
   "cell_type": "markdown",
   "metadata": {},
   "source": [
    "## Q2. If the function contains at least of one “yield” statement, then it becomes ______\n",
    "\n",
    "## Choose one"
   ]
  },
  {
   "cell_type": "markdown",
   "metadata": {},
   "source": [
    "a) An iterable\n",
    "\n",
    "b) a generator function\n",
    "\n",
    "c) an anonymous function d) None of the above"
   ]
  },
  {
   "cell_type": "code",
   "execution_count": null,
   "metadata": {},
   "outputs": [],
   "source": [
    "Ans: b) a generator function"
   ]
  },
  {
   "cell_type": "markdown",
   "metadata": {},
   "source": [
    "## Q3. What is the output of the code?"
   ]
  },
  {
   "cell_type": "markdown",
   "metadata": {},
   "source": [
    "1.mylist = [1, 3, 6, 10]\n",
    "\n",
    "2.a = (x**2 for x in mylist)\n",
    "\n",
    "3.print(next(a), next(a))\n",
    "\n",
    " a)1 3\n",
    " \n",
    " b)1 9 \n",
    " \n",
    " c)1 9 36 100 \n",
    " \n",
    " d)1\n"
   ]
  },
  {
   "cell_type": "code",
   "execution_count": null,
   "metadata": {},
   "outputs": [],
   "source": [
    "Ans: b) 1 9"
   ]
  },
  {
   "cell_type": "markdown",
   "metadata": {},
   "source": [
    "## Q4. What are the criteria that must be met to create closure in Python?"
   ]
  },
  {
   "cell_type": "markdown",
   "metadata": {},
   "source": [
    "a) The program Must have the function inside the function.\n",
    "\n",
    "b) The nested function must refer to the value defined in the enclosing function.\n",
    "\n",
    "c) The enclosing function must return the nested\n",
    "\n",
    "d) All of the above."
   ]
  },
  {
   "cell_type": "code",
   "execution_count": null,
   "metadata": {},
   "outputs": [],
   "source": [
    "d) All of the above."
   ]
  },
  {
   "cell_type": "markdown",
   "metadata": {},
   "source": [
    "## Q5. What is the output of the code?"
   ]
  },
  {
   "cell_type": "markdown",
   "metadata": {},
   "source": [
    "1. def Foo(n):\n",
    "\n",
    "2.   def multiplier(x):\n",
    "\n",
    "3.      returnx*n\n",
    "\n",
    "\n",
    "4.  return multiplier\n",
    "\n",
    "5. \n",
    "\n",
    "6. a = Foo(5)\n",
    "\n",
    "7. b = Foo(5)\n",
    "\n",
    "8.\n",
    "\n",
    "9.print(a(b(2)))\n",
    "\n",
    " \n",
    " \n",
    " \n",
    "\n",
    "\n"
   ]
  },
  {
   "cell_type": "code",
   "execution_count": null,
   "metadata": {},
   "outputs": [],
   "source": [
    "Ans:"
   ]
  },
  {
   "cell_type": "markdown",
   "metadata": {},
   "source": [
    "## Q5. What is the output of the code?\n",
    "\n",
    "def Foo(n):\n",
    "\n",
    " def multiplier(x):\n",
    "   \n",
    "   return x*n\n",
    "   \n",
    "  return multiplier\n",
    "\n",
    "a = Foo(5)\n",
    "\n",
    "b = Foo(5)\n",
    "\n",
    "print(a(b(2)))\n",
    "\n",
    "a) 25.\n",
    "\n",
    "b) 100 \n",
    "\n",
    "c) 10\n",
    "\n",
    "d) 50"
   ]
  },
  {
   "cell_type": "code",
   "execution_count": null,
   "metadata": {},
   "outputs": [],
   "source": [
    "Ans: d) 50"
   ]
  },
  {
   "cell_type": "markdown",
   "metadata": {},
   "source": [
    "## Q6. What is the output of the code?\n",
    "\n",
    "def make_pretty(func):\n",
    " \n",
    " def inner():\n",
    " \n",
    " print(\"I got decorated\")\n",
    " \n",
    " func()\n",
    " \n",
    " return inner\n",
    " \n",
    " def ordinary():\n",
    " \n",
    " print(\"I am ordinary\")\n",
    "\n",
    "pretty = make_pretty(ordinary)\n",
    "\n",
    "pretty()\n",
    "\n",
    "a) I got decorated\n",
    "\n",
    "b) I am pretty\n",
    "\n",
    "c) I got decorated\n",
    " \n",
    "   I am ordinary\n",
    "\n",
    "d) I am ordinary \n",
    "\n",
    "   I got decorated"
   ]
  },
  {
   "cell_type": "code",
   "execution_count": null,
   "metadata": {},
   "outputs": [],
   "source": [
    "Ans: d) I am ordinary\n",
    "        I got decorated"
   ]
  },
  {
   "cell_type": "markdown",
   "metadata": {},
   "source": [
    "## Q7: What is the more pythonic way to use getters and setters?\n",
    "\n",
    "a) Decorators \n",
    "\n",
    "b) Generators. \n",
    "\n",
    "c) Iterators\n",
    "\n",
    "d) @property"
   ]
  },
  {
   "cell_type": "code",
   "execution_count": null,
   "metadata": {},
   "outputs": [],
   "source": [
    "Ans: d) @property"
   ]
  },
  {
   "cell_type": "markdown",
   "metadata": {},
   "source": [
    "## Q8. In Python, there is a built-in function property() that returns a property object. The property object has which of the methods?\n",
    "\n",
    "a) getter()andsetter()\n",
    "\n",
    "b) getter(),setter()anddelete() \n",
    "\n",
    "c) getter()anddelete()\n",
    "\n",
    "d) setter()anddelete()"
   ]
  },
  {
   "cell_type": "code",
   "execution_count": null,
   "metadata": {},
   "outputs": [],
   "source": [
    "Ans: b) getter(),setter()and delete()"
   ]
  },
  {
   "cell_type": "markdown",
   "metadata": {},
   "source": [
    "### Q9. Which of the following statement is true?\n",
    "\n",
    "a) You cannot chain multiple decorators in Python.\n",
    "\n",
    "b) Decorators don’t work with functions that take parameters.\n",
    "\n",
    "c)The @ symbol doesn’t have any use while using decorators.\n",
    "\n",
    "d)None of the above"
   ]
  },
  {
   "cell_type": "code",
   "execution_count": null,
   "metadata": {},
   "outputs": [],
   "source": [
    "Ans: d) None of the above "
   ]
  },
  {
   "cell_type": "markdown",
   "metadata": {},
   "source": [
    "### Q10. For the following codes, which of the following statements is true?\n",
    "\n",
    "def printHello():\n",
    "\n",
    "print(\"Hello\")\n",
    "\n",
    "a = printHello()\n",
    "\n",
    "a) Print Hello() is a function, and a is a variable. None of them are objects. \n",
    "\n",
    "b) BothprintHello()andthereferencetothesameobject.\n",
    "\n",
    "c) Print Hello() and the reference to different objects.\n",
    "\n",
    "d) Syntax error! You cannot assign function"
   ]
  },
  {
   "cell_type": "code",
   "execution_count": null,
   "metadata": {},
   "outputs": [],
   "source": [
    "Ans: b) Both printHello() and a refer to the same object."
   ]
  },
  {
   "cell_type": "markdown",
   "metadata": {},
   "source": [
    "### What is the output of the following program?\n",
    "\n",
    "    def outerFunction():\n",
    "        global a\n",
    "        a = 20\n",
    "        def innerFunction():\n",
    "            global a\n",
    "            a = 30\n",
    "            print('a =', a)  \n",
    "    a = 10\n",
    "    outerFunction()\n",
    "    print('a =', a)\n",
    "    \n",
    "    \n",
    "    a) a=10a=30 \n",
    "    \n",
    "    b) a=10\n",
    "    \n",
    "    c) a=20\n",
    "    \n",
    "    d) a=30\n",
    "    "
   ]
  },
  {
   "cell_type": "code",
   "execution_count": null,
   "metadata": {},
   "outputs": [],
   "source": [
    "Ans: c) 20"
   ]
  },
  {
   "cell_type": "markdown",
   "metadata": {},
   "source": [
    "### Q12. Which of the following statements is true?\n",
    "\n",
    "a) A class is a blueprint for the object.\n",
    "\n",
    "b) You can only make the single object from the given class\n",
    "\n",
    "c) Bothstatementsaretrue. \n",
    "\n",
    "d) Neitherstatementistrue."
   ]
  },
  {
   "cell_type": "code",
   "execution_count": null,
   "metadata": {},
   "outputs": [],
   "source": [
    "Ans: a) A class is blueprint for the object."
   ]
  },
  {
   "cell_type": "markdown",
   "metadata": {},
   "source": [
    "### Q13. What is the output of the code?\n",
    "\n",
    "class Foo:\n",
    "\n",
    " def printLine(self, line='Python'):\n",
    " \n",
    " print(line)\n",
    " \n",
    " o1 = Foo()\n",
    "\n",
    "o1.printLine('Java')\n",
    "\n",
    "a) Python\n",
    "\n",
    "b) Line\n",
    "\n",
    "c) Java\n",
    "\n",
    "d) Java Python"
   ]
  },
  {
   "cell_type": "code",
   "execution_count": null,
   "metadata": {},
   "outputs": [],
   "source": [
    "Ans: c) Java"
   ]
  },
  {
   "cell_type": "markdown",
   "metadata": {},
   "source": [
    "### Q14. What is the function of the__init__() function in Python?\n",
    "\n",
    "a) Initialisestheclassforuse.\n",
    "\n",
    "b) This function is called, when the new object is instantiated\n",
    "\n",
    "c) Initialises all the data attributes to zero when called\n",
    "\n",
    "d) Noneoftheabove."
   ]
  },
  {
   "cell_type": "code",
   "execution_count": null,
   "metadata": {},
   "outputs": [],
   "source": [
    "Ans: b) This function is called when a new object is instantiated."
   ]
  },
  {
   "cell_type": "markdown",
   "metadata": {},
   "source": [
    "### Q15. What is the output of the code?\n",
    "\n",
    "    class Point:\n",
    "        def __init__(self, x = 0, y = 0):\n",
    "          self.x = x+1\n",
    "          self.y = y+1\n",
    "          \n",
    "    p1 = Point()\n",
    "    print(p1.x, p1.y)\n",
    "    \n",
    "    a) 00 \n",
    "    \n",
    "    b) 11\n",
    "\n",
    "    c) NoneNone \n",
    "    \n",
    "    d) xy"
   ]
  },
  {
   "cell_type": "code",
   "execution_count": null,
   "metadata": {},
   "outputs": [],
   "source": [
    "Ans: b) 1 1"
   ]
  },
  {
   "cell_type": "markdown",
   "metadata": {},
   "source": [
    "### Q16. Which of the following code used the inheritance feature?\n",
    " \n",
    " a)\n",
    " \n",
    "     class Foo:\n",
    "       Pass\n",
    "\n",
    "\t\t\n",
    "\t\n",
    "\n",
    "  \n",
    "  b)\n",
    "  \n",
    "      class Foo(object):\n",
    "       pass\n",
    "    class Hoo(object):\n",
    "       pass\n",
    "\n",
    "\t\t\n",
    "  c)\n",
    "  \n",
    "    class Foo:\n",
    "        pass\n",
    "    class Hoo(Foo):\n",
    "        pass\n",
    "        \n",
    "  d)None of the above code."
   ]
  },
  {
   "cell_type": "code",
   "execution_count": null,
   "metadata": {},
   "outputs": [],
   "source": [
    "Ans: c) \n",
    "    class Foo:\n",
    "    pass\n",
    "class Hoo(Foo):\n",
    "    pass"
   ]
  },
  {
   "cell_type": "markdown",
   "metadata": {},
   "source": [
    "### Q17. If you a class is derived from two different classes, it’s called ______________\n",
    "\n",
    "a) Multilevelinheritance\n",
    "\n",
    "b) MultipleInheritance\n",
    "\n",
    "c) HierarchicalInheritance \n",
    "\n",
    "d) Python Inheritance\n",
    " "
   ]
  },
  {
   "cell_type": "code",
   "execution_count": null,
   "metadata": {},
   "outputs": [],
   "source": [
    "Ans: b)Multiple Inheritance"
   ]
  },
  {
   "cell_type": "markdown",
   "metadata": {},
   "source": [
    "### Q18. Which of the following statements is true?\n",
    "\n",
    "\n",
    "a) InPython,thesameoperator may behave differently depends upon the \n",
    "\n",
    "operands.\n",
    "\n",
    "b) You can change the way operators which behave in Python.\n",
    "\n",
    "c) Special method __add()__ is called when + operator\n",
    "\n",
    "d) All of the above.\n"
   ]
  },
  {
   "cell_type": "code",
   "execution_count": null,
   "metadata": {},
   "outputs": [],
   "source": [
    "Ans: d) All of the above."
   ]
  },
  {
   "cell_type": "markdown",
   "metadata": {},
   "source": [
    "### Q19. What is the output of the code?\n",
    "\n",
    "    class Point:\n",
    "      \n",
    "        def __init__(self, x = 0, y = 0):\n",
    "          self.x = x\n",
    "          self.y = y\n",
    "      \n",
    "        def __sub__(self, other):\n",
    "            x = self.x + other.x\n",
    "            y = self.y + other.y\n",
    "            return Point(x,y)\n",
    "            \n",
    "    p1 = Point(3, 4)\n",
    "    p2 = Point(1, 2)\n",
    "    result = p1-p2\n",
    "    print(result.x, result.y)\n",
    "    \n",
    "    a) 22 \n",
    "    \n",
    "    b) 46 \n",
    "    \n",
    "    c) 00 \n",
    "    \n",
    "    d) 11"
   ]
  },
  {
   "cell_type": "code",
   "execution_count": null,
   "metadata": {},
   "outputs": [],
   "source": [
    "Ans: b) 4 6"
   ]
  },
  {
   "cell_type": "markdown",
   "metadata": {},
   "source": [
    "### Q20. Opening a file in ‘a’ mode\n",
    "\n",
    "a) opens a file for reading\n",
    "\n",
    "b) opens a file for writing\n",
    "\n",
    "c) opens the file for appending,attheend of file \n",
    "\n",
    "d) opens a file for exclusive creation"
   ]
  },
  {
   "cell_type": "code",
   "execution_count": null,
   "metadata": {},
   "outputs": [],
   "source": [
    "Ans: c) opens the file for appending,attheend of file "
   ]
  },
  {
   "cell_type": "markdown",
   "metadata": {},
   "source": [
    "### Q21. What does the following code do?\n",
    "\n",
    "f = open(\"test.txt\")\n",
    "\n",
    "a) Opens test.txt file for both reading and writing\n",
    "\n",
    "b) Opens test.txt file for reading only\n",
    "\n",
    "c) Opens test.txt file for writing only\n",
    "\n",
    "d) Opens test.txt file in god mode"
   ]
  },
  {
   "cell_type": "code",
   "execution_count": null,
   "metadata": {},
   "outputs": [],
   "source": [
    "Ans: a)  Opens test.txt file for both reading and writing"
   ]
  },
  {
   "cell_type": "markdown",
   "metadata": {},
   "source": [
    "### Q22. Which of the codes closes files automatically if an exception occurs?\n",
    "\n",
    "Choose one\n",
    "\n",
    "a)\n",
    "\n",
    "with open(\"test.txt\", encoding = 'utf-8') as f:\n",
    "  \n",
    "  #perform file operation\n",
    "  \n",
    "b)\n",
    "\n",
    "try:\n",
    "  \n",
    "  f = open(\"test.txt\",encoding = 'utf-8')\n",
    "  \n",
    "  #perform file operations\n",
    " \n",
    " finally:\n",
    "\n",
    "f.close()\n",
    "\n",
    "c) None of the above\n",
    "\n",
    "d) Both of the above"
   ]
  },
  {
   "cell_type": "code",
   "execution_count": null,
   "metadata": {},
   "outputs": [],
   "source": [
    "Ans: b) try:\n",
    "f = open(\"test.txt\",encoding = 'utf-8')\n",
    "#perform file operations\n",
    "finally:\n",
    "f.close()"
   ]
  },
  {
   "cell_type": "markdown",
   "metadata": {},
   "source": [
    "### Q23. For the following code,\n",
    "\n",
    "f = open('test.txt', 'r', encoding = 'utf-8')\n",
    "\n",
    " f.read()\n",
    " \n",
    " #### Which of the following statement is true\n",
    " \n",
    " a) This program reads the content of the test.txt file.\n",
    "\n",
    " b) If test.txt contains a newline, read() will return the newline as  \n",
    " ‘\\n’.\n",
    " \n",
    " c) You can pass an integer to the read() method\n",
    "\n",
    " d) Alloftheabove."
   ]
  },
  {
   "cell_type": "code",
   "execution_count": null,
   "metadata": {},
   "outputs": [],
   "source": [
    "Ans: a) This program reads the content of the test.txt file."
   ]
  },
  {
   "cell_type": "markdown",
   "metadata": {},
   "source": [
    "### Q24. What does the following code do?\n",
    "\n",
    "os.listdir()\n",
    "\n",
    "\n",
    "a) Prints the current working directory.\n",
    "\n",
    "b) Prints the current working directory.\n",
    "\n",
    "c) Prints all the directories and files inside the given directory\n",
    "\n",
    "d) Make a new directory\n"
   ]
  },
  {
   "cell_type": "code",
   "execution_count": null,
   "metadata": {},
   "outputs": [],
   "source": [
    "Ans: c) Prints all the directories and files inside the given directory"
   ]
  },
  {
   "cell_type": "markdown",
   "metadata": {},
   "source": [
    "### Q25. Which of the following is correct?\n",
    "\n",
    "a) An exception is an error that occurs in the runtime.\n",
    "\n",
    "b) A syntax error is also an exception.\n",
    "\n",
    "c) An exception is used to exclude a block of code in python.\n",
    "\n",
    "d) All of the above."
   ]
  },
  {
   "cell_type": "code",
   "execution_count": null,
   "metadata": {},
   "outputs": [],
   "source": [
    "Ans:d) All of the above."
   ]
  },
  {
   "cell_type": "markdown",
   "metadata": {},
   "source": [
    "### Q26. What will happen if we try to open the file that doesn’t exist?\n",
    "\n",
    "a) A new file is created.\n",
    "\n",
    "b) Nothing will happen.\n",
    "\n",
    "c) An exception is raised.\n",
    "\n",
    "d) None of the above\n"
   ]
  },
  {
   "cell_type": "code",
   "execution_count": null,
   "metadata": {},
   "outputs": [],
   "source": [
    "Ans: c) An exception is raised."
   ]
  },
  {
   "cell_type": "markdown",
   "metadata": {},
   "source": [
    "### Q27. What is the output of the code?\n",
    "\n",
    "number = 5.0\n",
    "\n",
    " try:\n",
    " \n",
    "   r = 10/number\n",
    " \n",
    "   print(r)\n",
    " \n",
    " except:\n",
    "\n",
    "   print(\"Oops! Error occurred.\")\n",
    "\n",
    "a) Oops!Error occurred\n",
    "\n",
    "b) 2.0\n",
    "\n",
    "c) 2.0 Oops!Error occurred. \n",
    "\n",
    "d) Noneobject"
   ]
  },
  {
   "cell_type": "code",
   "execution_count": null,
   "metadata": {},
   "outputs": [],
   "source": [
    "Ans: b) 2.0"
   ]
  },
  {
   "cell_type": "markdown",
   "metadata": {},
   "source": [
    "### Q28. What does the following code do?\n",
    "\n",
    "  try:\n",
    "\n",
    "#code that can raise an error\n",
    "  pass\n",
    "\n",
    " except (TypeError, ZeroDivisionError):\n",
    "\n",
    "    print(\"Two\")\n",
    "    \n",
    "    a) Prints Two if an exception occurs (doesn’t matter which \n",
    "    \n",
    "    exception).\n",
    "\n",
    "    b) Prints Two if exception doesn’t occur.\n",
    "\n",
    "    c) Prints Two if the TypeError or ZeroDivisionError exception \n",
    "    \n",
    "    occurs.\n",
    "    \n",
    "     d) Prints Two only if both TypeError anZeroDivisionErrorexception \n",
    "     occur.\n"
   ]
  },
  {
   "cell_type": "code",
   "execution_count": null,
   "metadata": {},
   "outputs": [],
   "source": [
    "Ans: a)Prints Two if an exception occurs (doesn’t matter which exception)."
   ]
  },
  {
   "cell_type": "markdown",
   "metadata": {},
   "source": [
    "### Q29. Which of the following statement is true?\n",
    "\n",
    "a) You cannot create custom exceptions in Python.\n",
    "\n",
    "b) You can create the user-defined exception by deriving a class from \n",
    "\n",
    "Exception class.\n",
    "\n",
    "c) You can create a user-defined exception by deriving a class from \n",
    "\n",
    "Error class.\n",
    "\n",
    "d)None of the above.\n",
    " "
   ]
  },
  {
   "cell_type": "code",
   "execution_count": null,
   "metadata": {},
   "outputs": [],
   "source": [
    "Ans: b)  You can create the user-defined exception by deriving a class from\n",
    "Exception class."
   ]
  },
  {
   "cell_type": "markdown",
   "metadata": {},
   "source": [
    "### Q30. Which of the following statement is true?\n",
    "\n",
    "a) Functions are used to create objects in Python.\n",
    "\n",
    "b) Function make your program run faster.\n",
    "\n",
    "c) The Function is a piece of code that can perform a specific task.\n",
    "\n",
    "d) All of the above."
   ]
  },
  {
   "cell_type": "code",
   "execution_count": null,
   "metadata": {},
   "outputs": [],
   "source": [
    "Ans: d) All of the above."
   ]
  },
  {
   "cell_type": "markdown",
   "metadata": {},
   "source": [
    "### Q31. What is the output of the code?\n",
    "\n",
    "    def printLine(text):\n",
    "     \n",
    "     print(text, 'is awesome.')\n",
    "     \n",
    "     printLine('Python')\n",
    "     \n",
    "     a)Python.\n",
    "     \n",
    "     b)Python is awesome.\n",
    "     \n",
    "     c)Text is awesome.\n",
    "     \n",
    "     d)Is awesome."
   ]
  },
  {
   "cell_type": "code",
   "execution_count": null,
   "metadata": {},
   "outputs": [],
   "source": [
    "Ans: b) Python is awesome.\n",
    "\n"
   ]
  },
  {
   "cell_type": "markdown",
   "metadata": {},
   "source": [
    "### Q32.If the return statement is not used inside the function, the function\n",
    " \n",
    " a) 0\n",
    " \n",
    " b) None object\n",
    " \n",
    " c) an arbitrary integer\n",
    " \n",
    " d) Error!Function in python must have return statement."
   ]
  },
  {
   "cell_type": "code",
   "execution_count": null,
   "metadata": {},
   "outputs": [],
   "source": [
    "Ans: b) None object."
   ]
  },
  {
   "cell_type": "markdown",
   "metadata": {},
   "source": [
    "### Q33. What is the output of the code?\n",
    "\n",
    "def greetPerson(*name):\n",
    " \n",
    " print('Hello', name)\n",
    "\n",
    "greetPerson('Frodo', 'Sauron')\n",
    "\n",
    "a) Hello Frodo Hello Sauron\n",
    "\n",
    "b)Hello ('Frodo', 'Sauron')\n",
    "\n",
    "c)Hello Frodo\n",
    "\n",
    "d)Syntax Error! Great person() can take only one argument."
   ]
  },
  {
   "cell_type": "code",
   "execution_count": null,
   "metadata": {},
   "outputs": [],
   "source": [
    "Ans: b)Hello ('Frodo', 'Sauron')"
   ]
  },
  {
   "cell_type": "markdown",
   "metadata": {},
   "source": [
    "### Q34. What is a recursive function?\n",
    "\n",
    "Choose one\n",
    "\n",
    "    a) A function that calls all the functions in the program.\n",
    "    \n",
    "    b) A function that calls itself.\n",
    "    \n",
    "    c) A function that that calls all the functions in the program  \n",
    "    \n",
    "    except itself.\n",
    "     \n",
    "     d) There is no such thing as a recursive function in Python."
   ]
  },
  {
   "cell_type": "code",
   "execution_count": null,
   "metadata": {},
   "outputs": [],
   "source": [
    "Ans: b) A function that calls itself.\n"
   ]
  },
  {
   "cell_type": "markdown",
   "metadata": {},
   "source": [
    "### Q35. What is the output of the program?\n",
    "\n",
    "result=lambda x:x*x\n",
    "\n",
    "print(result(5))\n",
    "\n",
    "a)lambda x:x*x\n",
    "\n",
    "b)10\n",
    "\n",
    "c)25\n",
    "\n",
    "d)5*5"
   ]
  },
  {
   "cell_type": "code",
   "execution_count": null,
   "metadata": {},
   "outputs": [],
   "source": [
    "Ans: b)25"
   ]
  },
  {
   "cell_type": "markdown",
   "metadata": {},
   "source": [
    "### Q36. What is the output of the program?\n",
    "\n",
    "\n",
    "def Foo(x):\n",
    " \n",
    " if(x==1):\n",
    " \n",
    " return 1\n",
    " \n",
    " else :\n",
    " \n",
    " return x+Foo(x-1)\n",
    " \n",
    " \n",
    "   print(Foo(4))\n",
    "   \n",
    "   \n",
    "   a) 10 \n",
    "   \n",
    "   b) 24 \n",
    "   \n",
    "   c) 7 \n",
    "   \n",
    "   d) 1"
   ]
  },
  {
   "cell_type": "code",
   "execution_count": null,
   "metadata": {},
   "outputs": [],
   "source": [
    "Ans: a) 10"
   ]
  },
  {
   "cell_type": "markdown",
   "metadata": {},
   "source": [
    "### Q37. Suppose you need to print pi constant defined in the math module. Which of the following code can do this task?\n",
    "\n",
    "a) print(math.pi)\n",
    "\n",
    "b) print(pi)\n",
    "\n",
    "c) from math import pi\n",
    "\n",
    "print(pi)\n",
    "\n",
    "d) from math import pi\n",
    "\n",
    "print(math.pi)\n",
    "\n"
   ]
  },
  {
   "cell_type": "code",
   "execution_count": null,
   "metadata": {},
   "outputs": [],
   "source": [
    "Ans: c) from math import pi\n",
    "print(pi)"
   ]
  },
  {
   "cell_type": "markdown",
   "metadata": {},
   "source": [
    "### Q38.Which operator is used in Python to import modules from the packages?\n",
    "\n",
    "a). operator\n",
    "\n",
    "b) * operator \n",
    "\n",
    "c) -> symbol \n",
    "\n",
    "d) , operator"
   ]
  },
  {
   "cell_type": "code",
   "execution_count": null,
   "metadata": {},
   "outputs": [],
   "source": [
    "Ans: a). operator"
   ]
  },
  {
   "cell_type": "markdown",
   "metadata": {},
   "source": [
    "###  Q39. What is the output of the code?\n",
    "\n",
    "numbers = [1, 3, 6]\n",
    " \n",
    " newNumbers = tuple(map(lambda x: x , numbers))\n",
    " \n",
    " print(newNumbers)\n",
    " \n",
    " a)[1,3,6]\n",
    " \n",
    " b) (1,3,6) \n",
    " \n",
    " c) [2,6,12]\n",
    " \n",
    " d) (2,6,12)"
   ]
  },
  {
   "cell_type": "code",
   "execution_count": null,
   "metadata": {},
   "outputs": [],
   "source": [
    "Ans: b) (1,3,6)"
   ]
  },
  {
   "cell_type": "markdown",
   "metadata": {},
   "source": [
    "### Q40. What is the output of the code?\n",
    "\n",
    "if None:\n",
    " \n",
    " print(“Hello”)\n",
    " \n",
    " a) False\n",
    " \n",
    " b) Hello\n",
    "\n",
    " c) Nothing will be printed\n",
    " \n",
    " d) Syntaxerror"
   ]
  },
  {
   "cell_type": "code",
   "execution_count": null,
   "metadata": {},
   "outputs": [],
   "source": [
    "Ans: c) Nothing will be printed"
   ]
  },
  {
   "cell_type": "markdown",
   "metadata": {},
   "source": [
    "### Q41. The if-elif-else executes only one block of code among several blocks.\n",
    "\n",
    "a) True\n",
    "\n",
    "b) False\n",
    "\n",
    "c) It depends on the expression used.\n",
    "\n",
    "d) There is no elif statement in Python."
   ]
  },
  {
   "cell_type": "code",
   "execution_count": null,
   "metadata": {},
   "outputs": [],
   "source": [
    "Ans: c) It depends on the expression used."
   ]
  },
  {
   "cell_type": "markdown",
   "metadata": {},
   "source": [
    "### Q41. The if-elif-else executes only one block of code among several blocks.\n",
    "\n",
    "a) True\n",
    "\n",
    "b) False\n",
    "\n",
    "c) It depends on the expression used.\n",
    "\n",
    "d) There is no elif statement in Python.\n",
    " "
   ]
  },
  {
   "cell_type": "code",
   "execution_count": null,
   "metadata": {},
   "outputs": [],
   "source": [
    "Ans: c) It depends on the expression used."
   ]
  },
  {
   "cell_type": "markdown",
   "metadata": {},
   "source": [
    "### Q42. What is the output of the code?\n",
    "\n",
    "for i in[1,0]:\n",
    " \n",
    " print(i+1)\n",
    " \n",
    " a)2 1\n",
    " \n",
    " b) [2, 1]\n",
    " \n",
    " c)2 0\n",
    " \n",
    " d) [2, 0]"
   ]
  },
  {
   "cell_type": "code",
   "execution_count": null,
   "metadata": {},
   "outputs": [],
   "source": [
    "Ans: a)2 1"
   ]
  },
  {
   "cell_type": "markdown",
   "metadata": {},
   "source": [
    "### Q43. In the Python, for and while loop can have the optional else statement?\n",
    "\n",
    "a) Only for loop can have the optional else statement\n",
    "\n",
    "b) Only while loop can have the optional else statement\n",
    "\n",
    "c) Both loops can have optional else statement\n",
    "\n",
    "d) Loops cannot have else statement in Python"
   ]
  },
  {
   "cell_type": "code",
   "execution_count": null,
   "metadata": {},
   "outputs": [],
   "source": [
    "Ans: c) Both loops can have optional else statement\n",
    "\n"
   ]
  },
  {
   "cell_type": "markdown",
   "metadata": {},
   "source": [
    "### Q44. What is the output of the code?\n",
    "\n",
    "i=sum=0\n",
    "\n",
    " while i <= 4:\n",
    "\n",
    "sum+=i\n",
    "\n",
    "i=i+1\n",
    "\n",
    "print(sum)\n",
    "\n",
    "\n",
    "\n",
    "a) 0\n",
    "\n",
    "b) 10\n",
    "\n",
    "c) 4\n",
    "\n",
    "d) None of the above"
   ]
  },
  {
   "cell_type": "code",
   "execution_count": null,
   "metadata": {},
   "outputs": [],
   "source": [
    "Ans: d) None of the above"
   ]
  },
  {
   "cell_type": "markdown",
   "metadata": {},
   "source": [
    "### Q45. What is the output of the code?\n",
    "\n",
    " while ==4:\n",
    " \n",
    "  print('4')\n",
    "  \n",
    "  a) 4 is printed once\n",
    "  \n",
    "  b) 4 is printed four times\n",
    "  \n",
    "  c) 4 is printed infinitely until the program closes\n",
    "\n",
    "  d) Syntax error"
   ]
  },
  {
   "cell_type": "code",
   "execution_count": null,
   "metadata": {},
   "outputs": [],
   "source": [
    "Ans: d) Syntax error"
   ]
  },
  {
   "cell_type": "markdown",
   "metadata": {},
   "source": [
    "### Q46. Is it better to use the for loop instead of while if we are iterating through a sequence?\n",
    "\n",
    "a) No, it’s better to use the while loop.\n",
    "\n",
    "b) Yes,for loop is more pythonic choice.\n",
    "\n",
    "c) No, we cannot iterate through a sequence using a while loop.\n",
    "\n",
    "d) No, we cannot iterate through a sequence using loops.\n"
   ]
  },
  {
   "cell_type": "code",
   "execution_count": null,
   "metadata": {},
   "outputs": [],
   "source": [
    "Ans: a) No, it’s better to use the while loop."
   ]
  },
  {
   "cell_type": "markdown",
   "metadata": {},
   "source": [
    "### Q47. Which of the following statement is true?\n",
    "\n",
    "a) “break”- It terminates the loop containing it.\n",
    "\n",
    "b) “continue” - It is used to skip the rest of the code inside the loops.\n",
    "\n",
    "c) break and continue: These are almost always used with if, if...else and if...elif...else statements\n",
    "\n",
    "d) All of the above."
   ]
  },
  {
   "cell_type": "code",
   "execution_count": null,
   "metadata": {},
   "outputs": [],
   "source": [
    " Ans: d) All of the above."
   ]
  },
  {
   "cell_type": "markdown",
   "metadata": {},
   "source": [
    "### Q48. What is the output of the code?\n",
    "\n",
    "for char in 'PYTHON STRING':\n",
    " \n",
    " if char=='':\n",
    " \n",
    " break\n",
    " \n",
    " print(char, end='')\n",
    "\n",
    "if char == 'O':\n",
    "\n",
    "continue\n",
    "\n",
    "a) PYTHON\n",
    "\n",
    "b) PYTHONSTRING\n",
    "\n",
    "c) PYTHN\n",
    "\n",
    "d) STRING\n",
    "\n"
   ]
  },
  {
   "cell_type": "code",
   "execution_count": null,
   "metadata": {},
   "outputs": [],
   "source": [
    "Ans: c) PYTHN"
   ]
  },
  {
   "cell_type": "markdown",
   "metadata": {},
   "source": [
    "### Q49. Which of the statement is true about the “pass” statement?\n",
    "\n",
    "a) Python interpreter- It ignores the “pass” statement like comments.\n",
    "\n",
    "b) Pass statement: It terminates the loop containing pass statement.\n",
    "\n",
    "c) It is used as the placeholder for future implementation of functions, loops, etc\n",
    "\n",
    "d) All of the above."
   ]
  },
  {
   "cell_type": "code",
   "execution_count": null,
   "metadata": {},
   "outputs": [],
   "source": [
    "Ans: a) Python interpreter- It ignores the “pass” statement like comments.\n",
    "\n"
   ]
  },
  {
   "cell_type": "markdown",
   "metadata": {},
   "source": [
    "### Q50. In regards to separated value files such as .csv and .tsv, what is the delimiter?\n",
    "\n",
    "\n",
    "a)Anywhere the comma (,) character is used in the file.\n",
    "\n",
    "b)Delimiters are not used in separated value files.\n",
    "\n",
    "c)Any character such as the comma (,)or tab (\\t) that is used to separate  the column data.\n",
    "\n",
    "d)Any character such as the comma (,)or tab (\\t) that is used to separate the row data\n",
    "\n",
    "\n"
   ]
  },
  {
   "cell_type": "code",
   "execution_count": null,
   "metadata": {},
   "outputs": [],
   "source": [
    "Ans: d)Any character such as the comma (,)or tab (\\t) that is used to separate the row data\n",
    "\n"
   ]
  },
  {
   "cell_type": "markdown",
   "metadata": {},
   "source": [
    "###  Q51. In separated value files such as .csv and .tsv, what does the first row in the file typically contain?\n",
    "\n",
    " a)The column names of the data.\n",
    " \n",
    " b)The author of the table data.\n",
    " \n",
    " c)The source of the data\n",
    " \n",
    " d)Notes about the table data"
   ]
  },
  {
   "cell_type": "code",
   "execution_count": null,
   "metadata": {},
   "outputs": [],
   "source": [
    "Ans:  a)The column names of the data.\n",
    "\n"
   ]
  },
  {
   "cell_type": "markdown",
   "metadata": {},
   "source": [
    "### Q52. Assume you have a file object , which has properly opened a separated value file that uses the tab character (\\t) as the delimiter.\n",
    "\n",
    "### What is the proper way to open the file using the Python CSV module and assign it to the variable   ?\n",
    "\n",
    "\n",
    "Assume that csv has already been imported.\n",
    "\n",
    "a) csv.tab_reader(my_data)\n",
    "\n",
    "b) csv.reader(my_data, delimiter='\\t')\n",
    "\n",
    "c) csv.reader(my_data)\n",
    "\n",
    "d) csv.reader(my_data, tab_delimited=True)"
   ]
  },
  {
   "cell_type": "code",
   "execution_count": null,
   "metadata": {},
   "outputs": [],
   "source": [
    "Ans: a) csv.tab_reader(my_data)"
   ]
  },
  {
   "cell_type": "markdown",
   "metadata": {},
   "source": [
    "### Q53. When iterating over an object returned from , what is returned with each iteration?\n",
    "\n",
    "For example, given the following code block that assumes   is an object returned from , what would be printed to the console with each iteration?\n",
    "\n",
    "for item in csv_reader: \n",
    "\n",
    "print(item)\n",
    "\n",
    "    a) The full line  of the file as a string.\n",
    "    \n",
    "    b) The row data as a list.\n",
    "    \n",
    "    c) The individual value data that is separated by the delimiter.\n",
    "    \n",
    "    d) The column data as a list."
   ]
  },
  {
   "cell_type": "code",
   "execution_count": null,
   "metadata": {},
   "outputs": [],
   "source": [
    "Ans:     d) The column data as a list.\n"
   ]
  },
  {
   "cell_type": "markdown",
   "metadata": {},
   "source": [
    "### Q54. When writing to a CSV file using the   method of the csv.DictWriter object, what must each key in the input dict represent? Below is an example:\n",
    "\n",
    "    with open('test_file.csv', mode='w') as csv_file:\n",
    "    \n",
    "    writer = csv.DictWriter( csv_file,\n",
    "    \n",
    "    fieldnames=['first_col', 'second_col'] )\n",
    "    \n",
    "    writer.writeheader()\n",
    " \n",
    " #This input dictionary is what the question is referring \n",
    " #to and is not necessarily correct as shown. writer.writerow({'key1':'value1', 'key2':'value2'})\n",
    " \n",
    "     a) Each key indicates the row index as an integer for where the data should go \n",
    " \n",
    "     b) Eachkeymustmatchuptothefieldnames(indexnames)usedtoidentifytherowdata \n",
    " \n",
    "     c) Each key must match up to the field names (column names) used to identify the column data\n",
    " \n",
    "     d) Each key indicates the column index as an integer for where the value should go"
   ]
  },
  {
   "cell_type": "code",
   "execution_count": null,
   "metadata": {},
   "outputs": [],
   "source": [
    "Ans: d) Each key indicates the column index as an integer for where the value should go"
   ]
  },
  {
   "cell_type": "markdown",
   "metadata": {},
   "source": [
    "### Q55. Which is the correct way to open the CSV file hrdata.csv for reading using the pandas package? Assume that the pandas package has already been imported.\n",
    "\n",
    "    a)pandas.open_csv('hrdata.csv', 'r')\n",
    "    \n",
    "    b)pandas.read_table(hrdata.csv)\n",
    "    \n",
    "    c)pandas.read_csv('hrdata.csv')\n",
    "    \n",
    "    d)pandas.open('hrdata.csv','r')"
   ]
  },
  {
   "cell_type": "code",
   "execution_count": null,
   "metadata": {},
   "outputs": [],
   "source": [
    "Ans: c)pandas.read_csv('hrdata.csv')\n"
   ]
  },
  {
   "cell_type": "markdown",
   "metadata": {},
   "source": [
    "### Q56. By default,   uses 0-based indices for indexing rows. Which is the correct way to import the CSV file hrdata.csv for reading and using the 'Name' column as the index row instead?\n",
    "\n",
    "Below is the contents of hrdata.csv\n",
    "\n",
    "Name,Hire Date,Salary,Sick Days remaining\n",
    "\n",
    "Fred,10/10/10,10000,10\n",
    "\n",
    "    a)pandas.read_csv('hrdata.csv', index_col='Name')\n",
    "    \n",
    "    b)pandas.read_csv('hrdata.csv', index=0, index_col_name='Name')\n",
    "    \n",
    "    c)pandas.read_csv('hrdata.csv', index='Name')\n",
    "    \n",
    "    d)pandas.read_csv('hrdata.csv', index_col=0)\n",
    "    \n",
    "    "
   ]
  },
  {
   "cell_type": "code",
   "execution_count": null,
   "metadata": {},
   "outputs": [],
   "source": [
    "Ans: a) pandas.read_csv('hrdata.csv', index_col='Name')"
   ]
  },
  {
   "cell_type": "markdown",
   "metadata": {},
   "source": [
    "### Q57.Given the file dog_breeds.txt,which of  the following is the correct way to open the file for reading as text file ? Select all that apply.\n",
    "\n",
    "    a)open('dog_breeds.txt', 'w')\n",
    "    \n",
    "    b)open('dog_breeds.txt', 'r')\n",
    "    \n",
    "    c)open('dog_breeds.txt')\n",
    "    \n",
    "    d)open('dog_breeds.txt', 'wb')\n",
    "    \n",
    "    e)open('dog_breeds.txt', 'rb')"
   ]
  },
  {
   "cell_type": "code",
   "execution_count": null,
   "metadata": {},
   "outputs": [],
   "source": [
    "Ans:b)open('dog_breeds.txt', 'r')"
   ]
  },
  {
   "cell_type": "markdown",
   "metadata": {},
   "source": [
    "### Q58. Given the following directory structure:\n",
    "\n",
    "animals/\n",
    "\n",
    "│\n",
    "├── feline/\n",
    "\n",
    "│ ├──lions.gif \n",
    "\n",
    "│└──tigers.gif\n",
    "│\n",
    "\n",
    "├── ursine/\n",
    "│ └──bears.gif\n",
    "│\n",
    "\n",
    "└── animals.csv\n",
    "\n",
    "Assuming that the cwd is in the root folder where   reside, what is the full path to the feline folder?"
   ]
  },
  {
   "cell_type": "code",
   "execution_count": null,
   "metadata": {},
   "outputs": [],
   "source": [
    "Ans: animals/feline/"
   ]
  },
  {
   "attachments": {},
   "cell_type": "markdown",
   "metadata": {},
   "source": [
    "### Q59.Given the file jack_russel.png, which of the following is the correct way to open the file for reading as a buffered binary file? Select all that apply.\n",
    "\n",
    "    open('jack_russell.png', 'rb')    \n",
    "    \n",
    "    open('jack_russell.png', bytes=True)\n",
    "    \n",
    "    open('jack_russell.png', 'r')\n",
    "    \n",
    "    open('jack_russell.png')\n",
    "    \n",
    "    open('jack_russell.png', 'wb')\n",
    "    "
   ]
  },
  {
   "cell_type": "code",
   "execution_count": null,
   "metadata": {},
   "outputs": [],
   "source": [
    "Ans: open('jack_russell.png', 'rb')"
   ]
  },
  {
   "cell_type": "markdown",
   "metadata": {},
   "source": [
    "### Q60. Using the same directory structure as before:\n",
    "\n",
    "animals/\n",
    "│\n",
    "├── feline/\n",
    "│ ├──lions.gif │ └──tigers.gif\n",
    "│\n",
    "├── ursine/\n",
    "│ └──bears.gif\n",
    "│\n",
    "└── animals.csv\n",
    "\n",
    "\n",
    "Assuming that the cwd is in the root folder where   reside, what is the full path to the file   ?\n",
    "\n"
   ]
  },
  {
   "cell_type": "code",
   "execution_count": null,
   "metadata": {},
   "outputs": [],
   "source": [
    "Ans: animals/ursine/bears.gif"
   ]
  },
  {
   "cell_type": "markdown",
   "metadata": {},
   "source": [
    "### Q61.Whenever possible,what is the recommended way to ensure that a file object is properly closed after usage?\n",
    "\n",
    "    a)Making sure that you use the .close()method before the end of the script\n",
    "    \n",
    "    b) It doesn’t matter\n",
    "    \n",
    "    c) By using the try/finally block\n",
    "    \n",
    "    d) By using the with statement\n"
   ]
  },
  {
   "cell_type": "code",
   "execution_count": null,
   "metadata": {},
   "outputs": [],
   "source": [
    "Ans: a)Making sure that you use the .close()method before the end of the script\n",
    "\n"
   ]
  },
  {
   "cell_type": "markdown",
   "metadata": {},
   "source": [
    "### Q62. Using the same directory structure as before:\n",
    "\n",
    "animals/\n",
    "│\n",
    "├── feline/ ← cwd\n",
    "│ ├──lions.gif │ └──tigers.gif\n",
    "│\n",
    "├── ursine/\n",
    "│ └──bears.gif\n",
    "│\n",
    "└── animals.csv\n",
    "\n",
    "\n",
    "Assuming that the cwd is in the feline folder, what is the relative path to the file   ?\n",
    "\n"
   ]
  },
  {
   "cell_type": "code",
   "execution_count": null,
   "metadata": {},
   "outputs": [],
   "source": [
    "Ans: animals/ursine/bears.gif"
   ]
  },
  {
   "cell_type": "markdown",
   "metadata": {},
   "source": [
    "### Q63. When reading a file using the file object, what method is best for reading the entire file into a single string?\n",
    "\n",
    "    a) .read_file_to_str()\n",
    "    \n",
    "    b) .read()\n",
    "    \n",
    "    c) .readlines()\n",
    "    \n",
    "    d) .readline()\n",
    "    \n",
    "    "
   ]
  },
  {
   "cell_type": "code",
   "execution_count": null,
   "metadata": {},
   "outputs": [],
   "source": [
    "Ans: c) .readlines()"
   ]
  },
  {
   "cell_type": "markdown",
   "metadata": {},
   "source": [
    "### Q64. The value 1.73 rounded to one decimal place using the “rounding up” strategy is...\n",
    "\n",
    "    a) 1.8 \n",
    "    \n",
    "    b) 1.7\n",
    " "
   ]
  },
  {
   "cell_type": "code",
   "execution_count": null,
   "metadata": {},
   "outputs": [],
   "source": [
    "Ans: a) 1.8"
   ]
  },
  {
   "cell_type": "markdown",
   "metadata": {},
   "source": [
    "### Q65. The value -2.961 rounded to two decimal places using the “rounding down” strategy is...\n",
    "\n",
    "    a) -2.96\n",
    "    \n",
    "    b) -2.97"
   ]
  },
  {
   "cell_type": "code",
   "execution_count": null,
   "metadata": {},
   "outputs": [],
   "source": [
    "Ans: a) -2.96"
   ]
  },
  {
   "cell_type": "markdown",
   "metadata": {},
   "source": [
    "### Q66. When a value is truncated to 3 decimal places, which of the following is true?\n",
    "\n",
    "    a) Positive numbers are rounded up,and negative numbers are rounded down.\n",
    "    \n",
    "    b) Positive numbers are rounded down,and negative numbers are rounded up.\n",
    "    \n",
    "    c) Both positive and negative numbers are rounded up.\n",
    "    \n",
    "    d) Both positive and negative numbers are rounded down.\n",
    "\n",
    "\n",
    "    "
   ]
  },
  {
   "cell_type": "code",
   "execution_count": null,
   "metadata": {},
   "outputs": [],
   "source": [
    "Ans: b) Positive numbers are rounded down,and negative numbers are rounded up.\n",
    "\n"
   ]
  },
  {
   "cell_type": "markdown",
   "metadata": {},
   "source": [
    " ### Q67. The value -0.045 rounded to 2 decimal places using the \"round half away from zero \" stretegy is....\n",
    " \n",
    "     a) -0.05\n",
    "     \n",
    "     b) -0.04"
   ]
  },
  {
   "cell_type": "code",
   "execution_count": null,
   "metadata": {},
   "outputs": [],
   "source": [
    "Ans: a)-0.05"
   ]
  },
  {
   "cell_type": "markdown",
   "metadata": {},
   "source": [
    "### Q68. Which rounding strategy does Python's built-in round() function use?\n",
    "\n",
    "    a) Round half down \n",
    "    \n",
    "    b) Round half away from zero\n",
    "    \n",
    "    c) Round half up\n",
    "    \n",
    "    d) Round half to even "
   ]
  },
  {
   "cell_type": "code",
   "execution_count": null,
   "metadata": {},
   "outputs": [],
   "source": [
    "Ans: d) Round half to even"
   ]
  },
  {
   "cell_type": "markdown",
   "metadata": {},
   "source": [
    "### Q69. The value 4.65 rounded to one decimal place using the \"round half to even\" strategy is...\n",
    "\n",
    "    a)4.6\n",
    "    \n",
    "    \n",
    "    b)4.7"
   ]
  },
  {
   "cell_type": "code",
   "execution_count": null,
   "metadata": {},
   "outputs": [],
   "source": [
    "Ans: b) 4.7"
   ]
  },
  {
   "cell_type": "markdown",
   "metadata": {},
   "source": [
    "### Q70. Which problem arises due to the multiple inheritances, if hierarchical inheritance is used previously for its base classes?\n",
    "\n",
    "    a) Diamond\n",
    "    \n",
    "    b) Circle\n",
    "    \n",
    "    c) Triangle\n",
    "    \n",
    "    d) Loop"
   ]
  },
  {
   "cell_type": "code",
   "execution_count": null,
   "metadata": {},
   "outputs": [],
   "source": [
    "Ans: a) Diamond\n"
   ]
  },
  {
   "cell_type": "markdown",
   "metadata": {},
   "source": [
    "### Q71. How many classes should a program contain to implement the multiple inheritances?\n",
    "\n",
    "    a) Only 1\n",
    "    \n",
    "    b) At least 1\n",
    "    \n",
    "    c) At least 3\n",
    "    \n",
    "    d) Exactly 3"
   ]
  },
  {
   "cell_type": "code",
   "execution_count": null,
   "metadata": {},
   "outputs": [],
   "source": [
    "Ans: c) At least 3"
   ]
  },
  {
   "cell_type": "markdown",
   "metadata": {},
   "source": [
    "### Q72. If class a inherits class b and class c as “class a: public class b, public class c {// class body ;}; ”, which class constructor will be called first?\n",
    "\n",
    "    a) Class a.\n",
    "    \n",
    "    b) Class b.\n",
    "    \n",
    "    c) Class c.\n",
    "    \n",
    "    d) All together."
   ]
  },
  {
   "cell_type": "code",
   "execution_count": null,
   "metadata": {},
   "outputs": [],
   "source": [
    "Ans: b) Class b."
   ]
  },
  {
   "cell_type": "markdown",
   "metadata": {},
   "source": [
    "### Q73.If all the members of all base classes are private then,\n",
    "\n",
    "    a) There won’t be any use of multiple inheritance\n",
    "    \n",
    "    b) It will make all members as public.\n",
    "    \n",
    "    c) Derived class can still access them in the multiple inheritance\n",
    "    \n",
    "    d) Compile-time error"
   ]
  },
  {
   "cell_type": "code",
   "execution_count": null,
   "metadata": {},
   "outputs": [],
   "source": [
    "Ans: a) There won’t be any use of multiple inheritance"
   ]
  },
  {
   "cell_type": "markdown",
   "metadata": {},
   "source": [
    "### Q74. Can the derived class be made abstract if multiple inheritance is used?\n",
    "\n",
    "     a) No, because other classes must be abstract too\n",
    "     \n",
    "     b) Yes, if all the functions are implemented\n",
    "     \n",
    "     c) Yes, if all the methods are predefined\n",
    "     \n",
    "     d) No, since constructors won’t be there"
   ]
  },
  {
   "cell_type": "code",
   "execution_count": null,
   "metadata": {},
   "outputs": [],
   "source": [
    "Ans: d) No, since constructors won’t be there."
   ]
  },
  {
   "cell_type": "markdown",
   "metadata": {},
   "source": [
    "### Q75. Which among the following best defines the multilevel inheritance?\n",
    "\n",
    "    a) A class derived from another derived class\n",
    "\n",
    "    b) Classes being derived from other derived classes\n",
    "\n",
    "    c) Continuing single level inheritance\n",
    "\n",
    "    d) Class which have more than one parent"
   ]
  },
  {
   "cell_type": "code",
   "execution_count": null,
   "metadata": {},
   "outputs": [],
   "source": [
    "Ans: d) Class which have more than one parent"
   ]
  },
  {
   "cell_type": "markdown",
   "metadata": {},
   "source": [
    "### Q76. If there are 5 classes, E is derived from D, D from C, C from B and B from A. Which class constructor will be called first if the object of E or D is created?\n",
    "\n",
    "    a)A \n",
    "    \n",
    "    b)B \n",
    "    \n",
    "    c)C\n",
    "    \n",
    "    d)A and B"
   ]
  },
  {
   "cell_type": "code",
   "execution_count": null,
   "metadata": {},
   "outputs": [],
   "source": [
    "Ans: a)A"
   ]
  },
  {
   "cell_type": "markdown",
   "metadata": {},
   "source": [
    "### Q77. Which Class is having the highest degree of abstraction in multilevel inheritance of 5 levels?\n",
    "\n",
    "    a) Class at 1st level\n",
    "    \n",
    "    b) Class 2nd last level\n",
    "    \n",
    "    c) Class at 5th level\n",
    "    \n",
    "    d) All with same abstraction"
   ]
  },
  {
   "cell_type": "code",
   "execution_count": null,
   "metadata": {},
   "outputs": [],
   "source": [
    "Ans: a) Class at 1st level"
   ]
  },
  {
   "cell_type": "markdown",
   "metadata": {},
   "source": [
    "### Q78. Multilevel inheritance allows _________________ in the program.\n",
    "\n",
    "    a) Only 7 levels of inheritance\n",
    "    \n",
    "    b) At least 7 levels of inheritance\n",
    "    \n",
    "    c) At most 16 levels of inheritance\n",
    "    \n",
    "    d) As many levels of inheritance as required"
   ]
  },
  {
   "cell_type": "code",
   "execution_count": null,
   "metadata": {},
   "outputs": [],
   "source": [
    "Ans: d) As many levels of inheritance as required"
   ]
  },
  {
   "cell_type": "markdown",
   "metadata": {},
   "source": [
    "###  Q79.If all the classes used parameterized constructors and no default  constructor then, ___________\n",
    "\n",
    "    a)The obeject of lower level classes can't be created.\n",
    "    \n",
    "    b)Object of lower-level classes must call parent class constructors explicitly\n",
    "    \n",
    "    c)Object of lower level classes must be define all the default constructors\n",
    "    \n",
    "    d)Only object of first-class can be created,which is first-parent"
   ]
  },
  {
   "cell_type": "code",
   "execution_count": null,
   "metadata": {},
   "outputs": [],
   "source": [
    "Ans:b)Object of lower-level classes must call parent class constructors explicitly\n",
    "\n"
   ]
  },
  {
   "cell_type": "markdown",
   "metadata": {},
   "source": [
    "### Q80. Which is the universal exception handler class?\n",
    "\n",
    "    a) Object\n",
    "    \n",
    "    b) Math\n",
    "    \n",
    "    c) Errors\n",
    "    \n",
    "    d) Exceptions"
   ]
  },
  {
   "cell_type": "code",
   "execution_count": null,
   "metadata": {},
   "outputs": [],
   "source": [
    "Ans: d) Exceptions"
   ]
  },
  {
   "cell_type": "code",
   "execution_count": null,
   "metadata": {},
   "outputs": [],
   "source": []
  },
  {
   "cell_type": "code",
   "execution_count": null,
   "metadata": {},
   "outputs": [],
   "source": []
  },
  {
   "cell_type": "markdown",
   "metadata": {},
   "source": [
    "### Q81.What are two exception classes in the hierarchy of java exceptions class?\n",
    "\n",
    "    a) Runtime exceptions only\n",
    "    \n",
    "    b) Compile-time exceptions only\n",
    "    \n",
    "    c) Runtime exceptions and other exceptions\n",
    "    \n",
    "    d) Other exceptions"
   ]
  },
  {
   "cell_type": "code",
   "execution_count": null,
   "metadata": {},
   "outputs": [],
   "source": [
    "Ans: c) Runtime exceptions and other exceptions"
   ]
  },
  {
   "cell_type": "markdown",
   "metadata": {},
   "source": [
    "### Q82. Which are the two blocks that are used to check error and handle the error?\n",
    "\n",
    "    a) Try and catch\n",
    "    \n",
    "    b) Trying and catching\n",
    "    \n",
    "    c) Do and while\n",
    "    \n",
    "    d) TryDo and Check"
   ]
  },
  {
   "cell_type": "code",
   "execution_count": null,
   "metadata": {},
   "outputs": [],
   "source": [
    "Ans: a) Try and catch"
   ]
  },
  {
   "cell_type": "markdown",
   "metadata": {},
   "source": [
    "### Q83. To catch the exceptions ___________________\n",
    "\n",
    "    a) An object must be created to catch the exception\n",
    "    \n",
    "    b) A variable should be created to catch the exception\n",
    "    \n",
    "    c) An array should be created to catch all the exceptions\n",
    "    \n",
    "    d) A string has to be created to store exception"
   ]
  },
  {
   "cell_type": "code",
   "execution_count": null,
   "metadata": {},
   "outputs": [],
   "source": [
    "Ans: a) An object must be created to catch the exception"
   ]
  },
  {
   "cell_type": "markdown",
   "metadata": {},
   "source": [
    "### Q84. Which class is used to handle the input and output exceptions?\n",
    "\n",
    "    a) InputOutput\n",
    "    \n",
    "    b) InputOutputExceptions\n",
    "    \n",
    "    c) IOExceptions\n",
    "    \n",
    "    d) ExceptionsIO"
   ]
  },
  {
   "cell_type": "code",
   "execution_count": null,
   "metadata": {},
   "outputs": [],
   "source": [
    "Ans: c) IOExceptions"
   ]
  },
  {
   "cell_type": "markdown",
   "metadata": {},
   "source": [
    "### Q85. Which among the following is true for the class exceptions?\n",
    "\n",
    "    a) Only base class can give rise to the exceptions\n",
    "    \n",
    "    b) Only derived class can give rise to exceptions\n",
    "    \n",
    "    c) Either base or derived class may produce exceptions\n",
    "    \n",
    "    d) Both base class and derived class may produce exceptions"
   ]
  },
  {
   "cell_type": "code",
   "execution_count": null,
   "metadata": {},
   "outputs": [],
   "source": [
    "Ans: a) Only base class can give rise to the exceptions"
   ]
  },
  {
   "cell_type": "markdown",
   "metadata": {},
   "source": [
    "### Q86. If both base and derived class caught the exceptions, _____.\n",
    "\n",
    "    a) Then catch block of a derived class must be defined before the base class\n",
    "    \n",
    "    b) Then catch block of the base class must be defined before the derived class\n",
    "    \n",
    "    c) Then catch block of base and derived classes don't matter.\n",
    "    \n",
    "    d) catch block of the base and derived classes are not mandatory to be defined"
   ]
  },
  {
   "cell_type": "code",
   "execution_count": null,
   "metadata": {},
   "outputs": [],
   "source": [
    "Ans: a) Then catch block of a derived class must be defined before the base class"
   ]
  },
  {
   "cell_type": "markdown",
   "metadata": {},
   "source": [
    "### Q87. The catching of base class the exception _________ in java.\n",
    "\n",
    "    a) After derived class is not allowed by the compiler\n",
    "    \n",
    "    b) Before derived class is not allowed by the compiler\n",
    "    \n",
    "    c) Before derived class is allowed\n",
    "    \n",
    "    d) After derived class can’t be done"
   ]
  },
  {
   "cell_type": "code",
   "execution_count": null,
   "metadata": {},
   "outputs": [],
   "source": [
    "Ans: b) Before derived class is not allowed by the compiler"
   ]
  },
  {
   "cell_type": "markdown",
   "metadata": {},
   "source": [
    "### Q88. Which of the following handles the undefined class in the program?\n",
    "\n",
    "    a) ClassNotFound\n",
    "    \n",
    "    b) NoClassException\n",
    "    \n",
    "    c) ClassFoundException\n",
    "    \n",
    "    d) ClassNotFoundException"
   ]
  },
  {
   "cell_type": "code",
   "execution_count": null,
   "metadata": {},
   "outputs": [],
   "source": [
    "Ans: d) ClassNotFoundException"
   ]
  },
  {
   "cell_type": "markdown",
   "metadata": {},
   "source": [
    "### Q89. Which among the following is true?\n",
    "\n",
    "    a) Only the base class catch the blocks are important.\n",
    "    \n",
    "    b) Only the derived class catch blocks are important.\n",
    "    \n",
    "    c) Both the base and derived class catch the blocks are important.\n",
    "    \n",
    "    d) If the base and derived classes both produce exceptions, the program doesn’t run."
   ]
  },
  {
   "cell_type": "code",
   "execution_count": null,
   "metadata": {},
   "outputs": [],
   "source": [
    "Ans: c) Both the base and derived class catch the blocks are important."
   ]
  },
  {
   "cell_type": "markdown",
   "metadata": {},
   "source": [
    "### Q90.Which condition among the following might result in memory exception?\n",
    "\n",
    "    a) False if conditions\n",
    "    \n",
    "    b) Nested if conditions that are all false\n",
    "    \n",
    "    c) Infinite loops\n",
    "    \n",
    "    d) The loop that runs exactly 99 times"
   ]
  },
  {
   "cell_type": "code",
   "execution_count": null,
   "metadata": {},
   "outputs": [],
   "source": [
    "Ans: c) Infinite loops"
   ]
  },
  {
   "cell_type": "markdown",
   "metadata": {},
   "source": [
    "### Q91. Which among the following is the correct definition for static member functions?\n",
    "\n",
    "    a) Functions created to allocate the constant values to each object\n",
    "    \n",
    "    b) Functions made to maintain a single copy of member functions for all the objects\n",
    "    \n",
    "    c) Functions created to define the static members\n",
    "\n",
    "    d) Functions made to manipulate the static programs\n",
    "\n"
   ]
  },
  {
   "cell_type": "code",
   "execution_count": null,
   "metadata": {},
   "outputs": [],
   "source": [
    "Ans: c) Functions created to define the static members"
   ]
  },
  {
   "cell_type": "markdown",
   "metadata": {},
   "source": [
    "### Q92. The static member functions __________________\n",
    "\n",
    "    a) Having access to all the members of the class.\n",
    "\n",
    "    b) Having access to only constant members of a class.\n",
    "    \n",
    "    c) Having access to only the static members of a class.\n",
    "    \n",
    "    d) Having direct access to all other class members also."
   ]
  },
  {
   "cell_type": "code",
   "execution_count": null,
   "metadata": {},
   "outputs": [],
   "source": [
    "Ans:c) Having access to only the static members of a class."
   ]
  },
  {
   "cell_type": "markdown",
   "metadata": {},
   "source": [
    "### Q93. Which is the correct syntax to access the static member functions with a class name?\n",
    "\n",
    "    a) className . functionName;\n",
    "    \n",
    "    b) className -> functionName;\n",
    "    \n",
    "    c) className : functionName;\n",
    "    \n",
    "    d) className :: functionName;"
   ]
  },
  {
   "cell_type": "code",
   "execution_count": null,
   "metadata": {},
   "outputs": [],
   "source": [
    "Ans: d) className :: functionName;"
   ]
  },
  {
   "cell_type": "markdown",
   "metadata": {},
   "source": [
    "### Q94. The static members are ______________________\n",
    "\n",
    "    a) Created with each new object.\n",
    "    \n",
    "    b) Created twice in the program.\n",
    "    \n",
    "    c) Created as many times,the class is being used.\n",
    "    \n",
    "    d) Created and initialised, only once"
   ]
  },
  {
   "cell_type": "code",
   "execution_count": null,
   "metadata": {},
   "outputs": [],
   "source": [
    "Ans: d) Created and initialised, only once"
   ]
  },
  {
   "cell_type": "markdown",
   "metadata": {},
   "source": [
    "### Q95. Which among the following is true?\n",
    "\n",
    "    a) Static member functions can be overloaded.\n",
    "\n",
    "    b) Static member functions can’t be overloaded.\n",
    "\n",
    "    c) Static member functions can be overloaded using the derived classes.\n",
    "\n",
    "    d) Static member functions are implicitly overloaded."
   ]
  },
  {
   "cell_type": "code",
   "execution_count": null,
   "metadata": {},
   "outputs": [],
   "source": [
    "Ans: b) Static member functions can’t be overloaded."
   ]
  },
  {
   "cell_type": "markdown",
   "metadata": {},
   "source": [
    "### Q96. The static member functions _______________\n",
    "\n",
    "    a) Can’t be declared const.\n",
    "    \n",
    "    b) Can’t be declared volatile.\n",
    "    \n",
    "    c) Can’t be declared const or volatile.\n",
    "    \n",
    "    d) Can’t be declared const, volatile, or constant volatile."
   ]
  },
  {
   "cell_type": "code",
   "execution_count": null,
   "metadata": {},
   "outputs": [],
   "source": [
    "Ans: d) Can’t be declared const, volatile, or constant volatile."
   ]
  },
  {
   "cell_type": "markdown",
   "metadata": {},
   "source": [
    "###  Q97. Which among the following can’t be used to access the members in anyway?\n",
    "\n",
    "    a) Scope resolution.\n",
    "    \n",
    "    b) Arrow operator.\n",
    "    \n",
    "    c) Single colon.\n",
    "    \n",
    "    d) Dot operator."
   ]
  },
  {
   "cell_type": "code",
   "execution_count": null,
   "metadata": {},
   "outputs": [],
   "source": [
    "Ans: c) Single colon."
   ]
  },
  {
   "cell_type": "markdown",
   "metadata": {},
   "source": [
    "### Q98. If static data member are made inline, ______________\n",
    "\n",
    "    a) Those should be initialised outside of the class.\n",
    "    \n",
    "    b) Those can’t be initialised with the class.\n",
    "    \n",
    "    c) Those can be initialised within the class.\n",
    "    \n",
    "    d) Class members can't use those."
   ]
  },
  {
   "cell_type": "code",
   "execution_count": null,
   "metadata": {},
   "outputs": [],
   "source": [
    "Ans: c) Those can be initialised within the class."
   ]
  },
  {
   "cell_type": "markdown",
   "metadata": {},
   "source": [
    "### Q99. The static data member _________________\n",
    "\n",
    "    a) It can be mutable.\n",
    "\n",
    "    b) Can’t be mutable.\n",
    "    \n",
    "    c) Can’t be an integer.\n",
    "    \n",
    "    d) Can’t be characters.\n",
    "    "
   ]
  },
  {
   "cell_type": "code",
   "execution_count": null,
   "metadata": {},
   "outputs": [],
   "source": [
    "Ans: b) Can’t be mutable."
   ]
  },
  {
   "cell_type": "markdown",
   "metadata": {},
   "source": [
    "### Q100. We can use the static member functions and static data member __________________.\n",
    "\n",
    "    a) Even if a class object is not created\n",
    "    \n",
    "    b) Even if a class is not defined\n",
    "    \n",
    "    c) Even if a class doesn’t contain any static member\n",
    "    \n",
    "    d) Even if a class doesn’t have a complete definition"
   ]
  },
  {
   "cell_type": "code",
   "execution_count": null,
   "metadata": {},
   "outputs": [],
   "source": [
    "Ans: a) Even if a class object is not created"
   ]
  },
  {
   "cell_type": "markdown",
   "metadata": {},
   "source": [
    "### Q101. Point out the wrong statement:\n",
    "\n",
    "    a) ipython is an enhanced interactive python shell.\n",
    "    \n",
    "    b) Matplotlib: It enables us to plot graphics.\n",
    "    \n",
    "    c) rPy provides lots of scientific routines that work on top of NumPy.\n",
    "    \n",
    "    d) all of the mentioned."
   ]
  },
  {
   "cell_type": "code",
   "execution_count": null,
   "metadata": {},
   "outputs": [],
   "source": [
    "Ans: d) all of the mentioned."
   ]
  },
  {
   "cell_type": "markdown",
   "metadata": {},
   "source": [
    "### Q102. The ________ function returns its argument with the modified shape, whereas the ________ method modifies the array itself.\n",
    "\n",
    "    a) reshape, resize.\n",
    "    \n",
    "    b) resize, reshape.\n",
    "    \n",
    "    c) reshape2,resize.\n",
    "    \n",
    "    d) all of the mentioned."
   ]
  },
  {
   "cell_type": "code",
   "execution_count": null,
   "metadata": {},
   "outputs": [],
   "source": [
    "Ans: a) reshape, resize."
   ]
  },
  {
   "cell_type": "markdown",
   "metadata": {},
   "source": [
    "### Q103. To create sequences of the numbers, NumPy provides a function __________ analogous to range that returns arrays instead of lists.\n",
    "\n",
    "    a) arrange.\n",
    "    \n",
    "    b) aspace.\n",
    "    \n",
    "    c) aline.\n",
    "    \n",
    "    d) all of the mentioned."
   ]
  },
  {
   "cell_type": "code",
   "execution_count": null,
   "metadata": {},
   "outputs": [],
   "source": [
    "Ans: a) arrange."
   ]
  },
  {
   "cell_type": "markdown",
   "metadata": {},
   "source": [
    "### Q104. Point out the correct statement:\n",
    "\n",
    "    a) NumPy main object is the homogeneous multidimensional array\n",
    "    \n",
    "    b) In Numpy, dimensions are called axes\n",
    "     \n",
    "    c) Numpy array class is called ndarray\n",
    "    \n",
    "    d) All of the mentioned"
   ]
  },
  {
   "cell_type": "code",
   "execution_count": null,
   "metadata": {},
   "outputs": [],
   "source": [
    "Ans: d) All of the Mentioned"
   ]
  },
  {
   "cell_type": "markdown",
   "metadata": {},
   "source": [
    "### Q105. Which of the following function stack 1D array as the columns into the 2D array?\n",
    "\n",
    "    a) row_stack.\n",
    "    \n",
    "    b) column_stack.\n",
    "    \n",
    "    c) com_stack.\n",
    "    \n",
    "    d) all of the mentioned."
   ]
  },
  {
   "cell_type": "code",
   "execution_count": null,
   "metadata": {},
   "outputs": [],
   "source": [
    "Ans: b) column_stack."
   ]
  },
  {
   "cell_type": "markdown",
   "metadata": {},
   "source": [
    "### Q106. ndarray is also known as an alias array.\n",
    "\n",
    "    a) True\n",
    "    \n",
    "    b) False"
   ]
  },
  {
   "cell_type": "code",
   "execution_count": null,
   "metadata": {},
   "outputs": [],
   "source": [
    "Ans: a) True"
   ]
  },
  {
   "cell_type": "markdown",
   "metadata": {},
   "source": [
    "### Q 107. Which of the following method creates the new array object that looks at the same data?\n",
    "\n",
    "\n",
    "    a) view.\n",
    "    \n",
    "    b) copy.\n",
    "    \n",
    "    c) paste.\n",
    "    \n",
    "    d) all of the mentioned."
   ]
  },
  {
   "cell_type": "code",
   "execution_count": null,
   "metadata": {},
   "outputs": [],
   "source": [
    "Ans: a) view."
   ]
  },
  {
   "cell_type": "markdown",
   "metadata": {},
   "source": [
    "### Q108. Which of the functions can be used to combine the different vectors to obtain the result for each n-uplet?\n",
    "\n",
    "    a) iid_.\n",
    "    \n",
    "    b) ix_.\n",
    "    \n",
    "    c) ixd_.\n",
    "    \n",
    "    d) all of the mentioned."
   ]
  },
  {
   "cell_type": "code",
   "execution_count": null,
   "metadata": {},
   "outputs": [],
   "source": [
    "Ans: b) ix_."
   ]
  },
  {
   "cell_type": "markdown",
   "metadata": {},
   "source": [
    "### Q109. ndarray.dataitemSize is the buffer containing actual elements of an array.\n",
    "\n",
    "    a) True\n",
    "    \n",
    "    b) False"
   ]
  },
  {
   "cell_type": "code",
   "execution_count": null,
   "metadata": {},
   "outputs": [],
   "source": [
    "Ans:a) True"
   ]
  },
  {
   "cell_type": "markdown",
   "metadata": {},
   "source": [
    "### Q110. Which of the following is in the NumPy library?\n",
    "\n",
    "    a) The n-dimensional array object\n",
    "    \n",
    "    b) The tools for integrating C/C++ and the Fortran code\n",
    "    \n",
    "    c) Fourier transform\n",
    "    \n",
    "    d) all of the Mentioned"
   ]
  },
  {
   "cell_type": "code",
   "execution_count": null,
   "metadata": {},
   "outputs": [],
   "source": [
    "Ans: d) all of the Mentioned"
   ]
  },
  {
   "cell_type": "markdown",
   "metadata": {},
   "source": [
    "### Q111. Which of the following sets the size of the buffer used in ufuncs ?\n",
    "\n",
    "    a) bufsize(size)\n",
    "    \n",
    "    b) setsize(size)\n",
    "    \n",
    "    c) setbufsize(size)\n",
    "    \n",
    "    d) all of the Mentioned"
   ]
  },
  {
   "cell_type": "code",
   "execution_count": null,
   "metadata": {},
   "outputs": [],
   "source": [
    "Ans: c) setbufsize(size)"
   ]
  },
  {
   "cell_type": "markdown",
   "metadata": {},
   "source": [
    "### Q112. Point out the wrong statement:\n",
    "\n",
    "    a) A universal function is the function that operates upon the “ndarrays” in an element-by-element fashion\n",
    "    \n",
    "    b) In Numpy, universal functions are the instances of numpy.ufunction class\n",
    "    \n",
    "    c) Many of the built-in functions are implemented in compiled C code\n",
    "    \n",
    "    d) All of the Mentioned"
   ]
  },
  {
   "cell_type": "code",
   "execution_count": null,
   "metadata": {},
   "outputs": [],
   "source": [
    "Ans: b) In Numpy, universal functions are the instances of numpy.ufunction class"
   ]
  },
  {
   "cell_type": "markdown",
   "metadata": {},
   "source": [
    "###   Q113. Which of the following attribute should be used while checking the type combination input and output?\n",
    "\n",
    "    a) .types\n",
    "    \n",
    "    b) .type\n",
    "    \n",
    "    c) .class\n",
    "    \n",
    "    d) all of the Mentioned"
   ]
  },
  {
   "cell_type": "code",
   "execution_count": null,
   "metadata": {},
   "outputs": [],
   "source": [
    "Ans: a) .types"
   ]
  },
  {
   "cell_type": "markdown",
   "metadata": {},
   "source": [
    "###  Q114. Which of the following returns an array of “ones” with the same shape and type as a given array?\n",
    "\n",
    "    a) all_like\n",
    "    \n",
    "    b) ones_like \n",
    "    \n",
    "    c) one_alike\n",
    "    \n",
    "    d) all of the Mentioned"
   ]
  },
  {
   "cell_type": "code",
   "execution_count": null,
   "metadata": {},
   "outputs": [],
   "source": [
    "Ans: b) ones_like"
   ]
  },
  {
   "cell_type": "markdown",
   "metadata": {},
   "source": [
    "### Q115. Point out the wrong statement:\n",
    "\n",
    "    a) Each universal function takes an array input and produces array outputs\n",
    "    \n",
    "    b) Broadcasting is used throughout NumPy to decide how to handle disparately shaped arrays\n",
    "    \n",
    "    c) The output of the ufunc is necessarily an ndarray, if all input arguments are ndarrays\n",
    "    \n",
    "    d) All of the mentioned"
   ]
  },
  {
   "cell_type": "code",
   "execution_count": null,
   "metadata": {},
   "outputs": [],
   "source": [
    "Ans: c) The output of the ufunc is necessarily a ndarray, if all the input arguments are ndarray"
   ]
  },
  {
   "cell_type": "markdown",
   "metadata": {},
   "source": [
    "### Q116. Which of the following set of a floating-point error callback function or a log object?\n",
    "\n",
    "    a) setter.\n",
    "    \n",
    "    b) settercall.\n",
    "    \n",
    "    c) setterstack.\n",
    "    \n",
    "    d) all of the mentioned."
   ]
  },
  {
   "cell_type": "code",
   "execution_count": null,
   "metadata": {},
   "outputs": [],
   "source": [
    "Ans: b) settercall."
   ]
  },
  {
   "cell_type": "markdown",
   "metadata": {},
   "source": [
    "### Q117. Some ufuncs can take output arguments.\n",
    "\n",
    "    a) True\n",
    "    \n",
    "    b) False"
   ]
  },
  {
   "cell_type": "code",
   "execution_count": null,
   "metadata": {},
   "outputs": [],
   "source": [
    "Ans:b) False"
   ]
  },
  {
   "cell_type": "markdown",
   "metadata": {},
   "source": [
    "###  Q118. ___________ decompose the elements of x into the mantissa and the two’s exponent.\n",
    "\n",
    "    a) trunc\n",
    "    \n",
    "    b) fmod\n",
    "    \n",
    "    c) frexp\n",
    "    \n",
    "    d) ldexp"
   ]
  },
  {
   "cell_type": "code",
   "execution_count": null,
   "metadata": {},
   "outputs": [],
   "source": [
    "Ans: c) frexp"
   ]
  },
  {
   "cell_type": "markdown",
   "metadata": {},
   "source": [
    "### Q119. Which of the following function take only single value as input?\n",
    "\n",
    "    a) iscomplex.\n",
    "    \n",
    "    b) minimum.\n",
    "    \n",
    "    c) fmin.\n",
    "    \n",
    "    d) all of the mentioned."
   ]
  },
  {
   "cell_type": "code",
   "execution_count": null,
   "metadata": {},
   "outputs": [],
   "source": [
    "Ans: a) iscomplex."
   ]
  },
  {
   "cell_type": "markdown",
   "metadata": {},
   "source": [
    "###  Q120. The array object returned by the _array_prepare_ is passed to ufunc for computation.\n",
    "\n",
    "    a) True\n",
    "    \n",
    "    b) False"
   ]
  },
  {
   "cell_type": "code",
   "execution_count": null,
   "metadata": {},
   "outputs": [],
   "source": [
    "Ans:a) True"
   ]
  },
  {
   "cell_type": "markdown",
   "metadata": {},
   "source": [
    "### Q121. All pandas data structures are ___mutable but not always _______ -mutable.\n",
    "\n",
    "    a) size,value.\n",
    "    \n",
    "    b) semantic,size.-mutable.\n",
    "    \n",
    "    c) value,size.\n",
    "    \n",
    "    d) none of the mentioned."
   ]
  },
  {
   "cell_type": "code",
   "execution_count": null,
   "metadata": {},
   "outputs": [],
   "source": [
    "Ans :c) value,size."
   ]
  },
  {
   "cell_type": "markdown",
   "metadata": {},
   "source": [
    "### Q122. Point out the correct statement:\n",
    "\n",
    "    a) Pandas consist of a set of the labelled array data structures\n",
    "    \n",
    "    b) Pandas consist of an integrated group by the engine for aggregating and the transforming data sets\n",
    "    \n",
    "    c) Pandas consist of moving window statistics\n",
    "    \n",
    "    d) All of the above mentioned."
   ]
  },
  {
   "cell_type": "code",
   "execution_count": null,
   "metadata": {},
   "outputs": [],
   "source": [
    "Ans: d) All of the above mentioned."
   ]
  },
  {
   "cell_type": "markdown",
   "metadata": {},
   "source": [
    "### Q123. Which of the following statement will import the pandas?\n",
    "\n",
    "    a) import pandas as pd\n",
    "    \n",
    "    b) import panda as py\n",
    "    \n",
    "    c) import pandaspy as pd\n",
    "    \n",
    "    d) all of the Mentioned"
   ]
  },
  {
   "cell_type": "code",
   "execution_count": null,
   "metadata": {},
   "outputs": [],
   "source": [
    "Ans: a) import pandas as pd"
   ]
  },
  {
   "cell_type": "markdown",
   "metadata": {},
   "source": [
    "### Q124.  Which of the following object did we get after reading the CSV file?\n",
    "\n",
    "    a) DataFrame.\n",
    "    \n",
    "    b) Character Vector.\n",
    "    \n",
    "    c) Panel.\n",
    "    \n",
    "    d) All of the Mentioned"
   ]
  },
  {
   "cell_type": "code",
   "execution_count": null,
   "metadata": {},
   "outputs": [],
   "source": [
    "Ans: a) DataFrame."
   ]
  },
  {
   "cell_type": "markdown",
   "metadata": {},
   "source": [
    "### Q125. Point out the wrong statement:\n",
    "\n",
    "    a) Series is 1D labelled homogeneously-typed array.\n",
    "    \n",
    "    b) DataFrame is a general 2D labelled, size-mutable tabular structure with the potentially heterogeneously-typed columns.\n",
    "    \n",
    "    c) The panel is generally 2D labelled, also a size-mutable array.\n",
    "    \n",
    "    d) None of the Mentioned."
   ]
  },
  {
   "cell_type": "code",
   "execution_count": null,
   "metadata": {},
   "outputs": [],
   "source": [
    "Ans: c) The panel is generally 2D labelled, also a size-mutable array."
   ]
  },
  {
   "cell_type": "markdown",
   "metadata": {},
   "source": [
    "### Q126. Which of the following library is similar to the pandas?\n",
    "\n",
    "    a) numpy.\n",
    "    \n",
    "    b) RPy.\n",
    "    \n",
    "    c) OutPy.\n",
    "    \n",
    "    d) None of the mentioned."
   ]
  },
  {
   "cell_type": "code",
   "execution_count": null,
   "metadata": {},
   "outputs": [],
   "source": [
    "Ans: a) numpy."
   ]
  },
  {
   "cell_type": "markdown",
   "metadata": {},
   "source": [
    "### Q127. Panel is a container for the Series, and DataFrame is a container for DataFrame objects.\n",
    "\n",
    "    a) True\n",
    "    \n",
    "    b) False"
   ]
  },
  {
   "cell_type": "code",
   "execution_count": null,
   "metadata": {},
   "outputs": [],
   "source": [
    "Ans: b) False"
   ]
  },
  {
   "cell_type": "markdown",
   "metadata": {},
   "source": [
    "### Q128. Which of the following is the prominent python “statistics andeconometrics library”?\n",
    "\n",
    "    a) Bokeh.\n",
    "    \n",
    "    b) Seaborn.\n",
    "    \n",
    "    c) Statsmodels.\n",
    "    \n",
    "    d) None of the mentioned."
   ]
  },
  {
   "cell_type": "code",
   "execution_count": null,
   "metadata": {},
   "outputs": [],
   "source": [
    "Ans: c) Statsmodels."
   ]
  },
  {
   "cell_type": "markdown",
   "metadata": {},
   "source": [
    "###  Q129. Which of the following is the foundational exploratory visualisation package for the R language in the pandas ecosystem?\n",
    "\n",
    "    a) yhat.\n",
    "    \n",
    "    b) Seaborn.\n",
    "    \n",
    "    c) Vincent.\n",
    "    \n",
    "    d) None of the mentioned."
   ]
  },
  {
   "cell_type": "code",
   "execution_count": null,
   "metadata": {},
   "outputs": [],
   "source": [
    "Ans: a) yhat."
   ]
  },
  {
   "cell_type": "markdown",
   "metadata": {},
   "source": [
    "###  Q130. Pandas consist of static and the moving window linear and panel regression.\n",
    "\n",
    "     a) True\n",
    "     \n",
    "     b) False"
   ]
  },
  {
   "cell_type": "code",
   "execution_count": null,
   "metadata": {},
   "outputs": [],
   "source": [
    "Ans: a) True"
   ]
  },
  {
   "cell_type": "markdown",
   "metadata": {},
   "source": [
    "###   Q131. Quandl API for Python wraps the __ REST API to returns the pandas DataFrames with time series indexes.\n",
    "\n",
    "    a) Quandl.\n",
    "    \n",
    "    b) PyDatastream.\n",
    "    \n",
    "    c) PyData.\n",
    "    \n",
    "    d) None of the Mentioned."
   ]
  },
  {
   "cell_type": "code",
   "execution_count": null,
   "metadata": {},
   "outputs": [],
   "source": [
    "Ans: a) Quandl."
   ]
  },
  {
   "cell_type": "markdown",
   "metadata": {},
   "source": [
    "### Q132. Point out the correct statement:\n",
    "\n",
    "    a) Statsmodels provides powerful statistics, econometrics, analysis and the modelling functionality which is out of pandas’ scope\n",
    "    \n",
    "    b) Vintage leverages pandas objects as an underlying data container for the computation\n",
    "    \n",
    "    c) Bokeh is a Python interactive visualisation library for the small datasets\n",
    "    \n",
    "    d) All of the Mentioned"
   ]
  },
  {
   "cell_type": "code",
   "execution_count": null,
   "metadata": {},
   "outputs": [],
   "source": [
    "Ans: a) Statsmodels provides powerful statistics, econometrics, analysis and the modelling functionality which is out of pandas’ scope"
   ]
  },
  {
   "cell_type": "markdown",
   "metadata": {},
   "source": [
    "### Q133. Which of the following library is used to retrieve and acquire statistical data and metadata disseminated in SDMX 2.1?\n",
    "    \n",
    "    a) pandaSDMX\n",
    "    \n",
    "    b) freedapi\n",
    "    \n",
    "    c) geopandas\n",
    "    \n",
    "    d) all of the mentioned"
   ]
  },
  {
   "cell_type": "code",
   "execution_count": null,
   "metadata": {},
   "outputs": [],
   "source": [
    "Ans: a) pandaSDMX"
   ]
  },
  {
   "cell_type": "markdown",
   "metadata": {},
   "source": [
    "### Q134. Which of the following provides a standard API for doing computations with MongoDB?\n",
    "\n",
    "    a) Blaze\n",
    "    \n",
    "    b) Geopandas\n",
    "    \n",
    "    c) FRED\n",
    "    \n",
    "    d) All of the mentioned"
   ]
  },
  {
   "cell_type": "code",
   "execution_count": null,
   "metadata": {},
   "outputs": [],
   "source": [
    "Ans: a) Blaze."
   ]
  },
  {
   "cell_type": "markdown",
   "metadata": {},
   "source": [
    "### Q135. Point out the wrong statement:\n",
    "\n",
    "    a) qgrid is an interactive grid for sorting and the filtering DataFrames\n",
    "    \n",
    "    b) Pandas DataFrames implement _repr_html_ methods which are utilised by the IPython Notebook\n",
    "    \n",
    "    c) Spyder is a cross-platform Qt-based open-source R IDE\n",
    "    \n",
    "    d) None of the mentioned"
   ]
  },
  {
   "cell_type": "code",
   "execution_count": null,
   "metadata": {},
   "outputs": [],
   "source": [
    "Ans: c) Spyder is a cross-platform Qt-based open-source R IDE"
   ]
  },
  {
   "cell_type": "markdown",
   "metadata": {},
   "source": [
    "### Q136. Which of the following makes use of the pandas and returns data in a series or DataFrame?\n",
    "\n",
    "    a) pandaSDMX.\n",
    "    \n",
    "    b) freedapi.\n",
    "    \n",
    "    c) OutPy.\n",
    "    \n",
    "    d) none of the mentioned."
   ]
  },
  {
   "cell_type": "code",
   "execution_count": null,
   "metadata": {},
   "outputs": [],
   "source": [
    "Ans: b) freedapi."
   ]
  },
  {
   "cell_type": "markdown",
   "metadata": {},
   "source": [
    "### Q137. Spyder can introspect and display Pandas DataFrames.\n",
    "\n",
    "    a) True\n",
    "    \n",
    "    b) False"
   ]
  },
  {
   "cell_type": "code",
   "execution_count": null,
   "metadata": {},
   "outputs": [],
   "source": [
    "Ans:b) False"
   ]
  },
  {
   "cell_type": "markdown",
   "metadata": {},
   "source": [
    "### Q138. Which of the following is used for machine learning in the python?\n",
    "\n",
    "    a) sci-kit-learn.\n",
    "    \n",
    "    b) seaborn-learn.\n",
    "    \n",
    "    c) stats-learn.\n",
    "    \n",
    "    d) none of the mentioned."
   ]
  },
  {
   "cell_type": "code",
   "execution_count": null,
   "metadata": {},
   "outputs": [],
   "source": [
    "Ans: a) sci-kit-learn."
   ]
  },
  {
   "cell_type": "markdown",
   "metadata": {},
   "source": [
    "### Q139. The ________ project builds on top of the pandas and matplotlib to provide easy plotting of data.\n",
    "\n",
    "    a) yhat.\n",
    "\n",
    "    b) Seaborn.\n",
    "    \n",
    "    c) Vincent.\n",
    "    \n",
    "    d) None of the mentioned."
   ]
  },
  {
   "cell_type": "code",
   "execution_count": null,
   "metadata": {},
   "outputs": [],
   "source": [
    "Ans: b) Seaborn."
   ]
  },
  {
   "cell_type": "markdown",
   "metadata": {},
   "source": [
    "### Q140 x-ray brings the labelled data power of pandas to the physical sciences.\n",
    "\n",
    "    a) True\n",
    "    \n",
    "    b) False"
   ]
  },
  {
   "cell_type": "code",
   "execution_count": null,
   "metadata": {},
   "outputs": [],
   "source": [
    "Ans: a) True"
   ]
  },
  {
   "cell_type": "markdown",
   "metadata": {},
   "source": [
    "### Q141. Which of the following is the base layer of all of the sparse has it indexed data structures?\n",
    "\n",
    "    a) SArray.\n",
    "    \n",
    "    b) SparseArray.\n",
    "    \n",
    "    c) PyArray.\n",
    "\n",
    "    d) None of the mentioned."
   ]
  },
  {
   "cell_type": "code",
   "execution_count": null,
   "metadata": {},
   "outputs": [],
   "source": [
    "Ans: b) SparseArray."
   ]
  },
  {
   "cell_type": "markdown",
   "metadata": {},
   "source": [
    "### Q142. Point out the correct statement.\n",
    "\n",
    "\n",
    "    a) All of the standard pandas data structures have to_sparse method\n",
    "    \n",
    "    b) Any sparse object can be converted back to the standard dense form by calling the to_dense\n",
    "    \n",
    "    c) The sparse objects exist for memory efficiency reasons.\n",
    "    \n",
    "    d) All of the mentioned."
   ]
  },
  {
   "cell_type": "code",
   "execution_count": null,
   "metadata": {},
   "outputs": [],
   "source": [
    "Ans : d) All of the mentioned."
   ]
  },
  {
   "cell_type": "markdown",
   "metadata": {},
   "source": [
    "### Q143. Which of the following is not an indexed object?\n",
    "\n",
    "    a) SparseSeries.\n",
    "    \n",
    "    b) SparseDataFrame.\n",
    "    \n",
    "    c) SparsePanel.\n",
    "    \n",
    "    d) None of the mentioned."
   ]
  },
  {
   "cell_type": "code",
   "execution_count": null,
   "metadata": {},
   "outputs": [],
   "source": [
    "Ans: d) None of the mentioned."
   ]
  },
  {
   "cell_type": "markdown",
   "metadata": {},
   "source": [
    "###  Q144. Which of the following list like data structure is used for managing the dynamic collection of SparseArrays?\n",
    "\n",
    "        a) SparseList.\n",
    "        \n",
    "        b) GeoList.\n",
    "        \n",
    "        c) SparseSeries.\n",
    "        \n",
    "        d) All of the mentioned."
   ]
  },
  {
   "cell_type": "code",
   "execution_count": null,
   "metadata": {},
   "outputs": [],
   "source": [
    "Ans: a) SparseList."
   ]
  },
  {
   "cell_type": "markdown",
   "metadata": {},
   "source": [
    "### Q145. Point out the wrong statement.\n",
    "\n",
    "    a) to_array. append can accept scalar values or any 2-D sequence.\n",
    "   \n",
    "    b) Two kinds of SparseIndex are implemented.\n",
    "    \n",
    "    c) The integer format keeps an arrays of all locations, where the data are not equal to the fill value.\n",
    "    \n",
    "    d) None of the mentioned."
   ]
  },
  {
   "cell_type": "code",
   "execution_count": null,
   "metadata": {},
   "outputs": [],
   "source": [
    "Ans : a) to_array. append can accept scalar values or any 2-D sequence."
   ]
  },
  {
   "cell_type": "markdown",
   "metadata": {},
   "source": [
    "### Q146.  Which of the following method is used for transforming a SparseSeries indexed by a MultiIndex to a scipy.sparse.coo_matrix?\n",
    "\n",
    "    a) SparseSeries.to_coo().\n",
    "    \n",
    "    b) Series.to_coo().\n",
    "    \n",
    "    c) SparseSeries.to_cooser().\n",
    "    \n",
    "    d) None of the mentioned."
   ]
  },
  {
   "cell_type": "code",
   "execution_count": null,
   "metadata": {},
   "outputs": [],
   "source": [
    "Ans: a) SparseSeries.to_coo()."
   ]
  },
  {
   "cell_type": "markdown",
   "metadata": {},
   "source": [
    "###  Q147. The integer format tracks only the locations and the sizes of blocks of data.\n",
    "\n",
    "    a) True\n",
    "    \n",
    "    b) False"
   ]
  },
  {
   "cell_type": "code",
   "execution_count": null,
   "metadata": {},
   "outputs": [],
   "source": [
    "Ans:b) False"
   ]
  },
  {
   "cell_type": "markdown",
   "metadata": {},
   "source": [
    "### Q148. Which of the following is used for testing for membership in the list of column names?\n",
    "\n",
    "    a) in. \n",
    "    \n",
    "    b) out.\n",
    "    \n",
    "    c) else if.\n",
    "\n",
    "    d) none of the mentioned."
   ]
  },
  {
   "cell_type": "code",
   "execution_count": null,
   "metadata": {},
   "outputs": [],
   "source": [
    "Ans: a) in."
   ]
  },
  {
   "cell_type": "markdown",
   "metadata": {},
   "source": [
    "###  Q149. Which of the following indexing capabilities is used as the concise means of selecting data from a pandas object?\n",
    "\n",
    "    a) In. \n",
    "    \n",
    "    b) ix.\n",
    "    \n",
    "    c) ipy.\n",
    "    \n",
    "    d) none of the mentioned."
   ]
  },
  {
   "cell_type": "code",
   "execution_count": null,
   "metadata": {},
   "outputs": [],
   "source": [
    "Ans: b) ix."
   ]
  },
  {
   "cell_type": "markdown",
   "metadata": {},
   "source": [
    "###  Q150. Pandas follow the NumPy convention of raising an error when you try to convert something to a bool.\n",
    "\n",
    "     a) True\n",
    "     \n",
    "     b) False"
   ]
  },
  {
   "cell_type": "code",
   "execution_count": null,
   "metadata": {},
   "outputs": [],
   "source": [
    "Ans: a) True"
   ]
  },
  {
   "cell_type": "code",
   "execution_count": null,
   "metadata": {},
   "outputs": [],
   "source": []
  },
  {
   "cell_type": "markdown",
   "metadata": {},
   "source": [
    "#### --------------------------------------------------------------------------------------------------------------------------------------------------------"
   ]
  },
  {
   "cell_type": "code",
   "execution_count": null,
   "metadata": {},
   "outputs": [],
   "source": []
  },
  {
   "cell_type": "code",
   "execution_count": null,
   "metadata": {},
   "outputs": [],
   "source": []
  },
  {
   "cell_type": "code",
   "execution_count": null,
   "metadata": {},
   "outputs": [],
   "source": []
  },
  {
   "cell_type": "code",
   "execution_count": null,
   "metadata": {},
   "outputs": [],
   "source": []
  },
  {
   "cell_type": "code",
   "execution_count": null,
   "metadata": {},
   "outputs": [],
   "source": []
  },
  {
   "cell_type": "code",
   "execution_count": null,
   "metadata": {},
   "outputs": [],
   "source": []
  },
  {
   "cell_type": "code",
   "execution_count": null,
   "metadata": {},
   "outputs": [],
   "source": []
  }
 ],
 "metadata": {
  "kernelspec": {
   "display_name": "Python 3",
   "language": "python",
   "name": "python3"
  },
  "language_info": {
   "codemirror_mode": {
    "name": "ipython",
    "version": 3
   },
   "file_extension": ".py",
   "mimetype": "text/x-python",
   "name": "python",
   "nbconvert_exporter": "python",
   "pygments_lexer": "ipython3",
   "version": "3.7.3"
  }
 },
 "nbformat": 4,
 "nbformat_minor": 2
}
